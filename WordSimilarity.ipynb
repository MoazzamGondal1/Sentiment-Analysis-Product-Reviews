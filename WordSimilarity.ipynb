{
  "cells": [
    {
      "cell_type": "markdown",
      "metadata": {},
      "source": [
        "# **WORD SIMILARITY**"
      ]
    },
    {
      "cell_type": "code",
      "execution_count": 125,
      "metadata": {
        "id": "rKgKqfLofL9L"
      },
      "outputs": [],
      "source": [
        "import numpy as np\n",
        "import pandas as pd\n",
        "from itertools import combinations"
      ]
    },
    {
      "cell_type": "markdown",
      "metadata": {
        "id": "CxrpHWWsfX--"
      },
      "source": [
        "The problem is to match the user's free-form input against a pre-determined list of banks. For example, user input 'bawag bank' should be matched to 'BAWAG Group AG'."
      ]
    },
    {
      "cell_type": "code",
      "execution_count": 126,
      "metadata": {
        "id": "3nsmwxZKfaqO"
      },
      "outputs": [],
      "source": [
        "# List of banks to compare\n",
        "banks =   ['Sberbank Europe AG',\n",
        "          'BAWAG Group AG',\n",
        "          'Raiffeisenbankengruppe OÖ Verbund eGen',\n",
        "          'Raiffeisen Bank International AG',\n",
        "          'Volksbanken Verbund',\n",
        "          'Erste Group Bank AG',\n",
        "          'KBC Groep',\n",
        "          'Investeringsmaatschappij Argenta',\n",
        "          'Belfius Bank',\n",
        "          'AXA Bank Belgium',\n",
        "          'The Bank of New York Mellon SA/NV',\n",
        "          'First Investment Bank AD',\n",
        "          'RCB Bank Ltd',\n",
        "          'Bank of Cyprus Holdings Public Limited Company',\n",
        "          'Hellenic Bank Public Company Limited',\n",
        "          'DekaBank Deutsche Girozentrale',\n",
        "          'Erwerbsgesellschaft der S-Finanzgruppe mbH & Co. KG',\n",
        "          'UBS Europe SE',\n",
        "          'DEUTSCHE APOTHEKER- UND ÄRZTEBANK EG',\n",
        "          'Volkswagen Bank Gesellschaft mit beschränkter Haftung',\n",
        "          'Münchener Hypothekenbank eG',\n",
        "          'DZ BANK AG Deutsche Zentral-Genossenschaftsbank, Frankfurt am Main',\n",
        "          'HASPA Finanzholding',\n",
        "          'State Street Europe Holdings Germany S.a.r.l. & Co. KG',\n",
        "          'J.P. Morgan AG',\n",
        "          'DEUTSCHE BANK AKTIENGESELLSCHAFT',\n",
        "          'COMMERZBANK Aktiengesellschaft',\n",
        "          'Landesbank Baden-Württemberg',\n",
        "          'Landesbank Hessen-Thüringen Girozentrale',\n",
        "          'Norddeutsche Landesbank - Girozentrale -',\n",
        "          'Deutsche Pfandbriefbank AG',\n",
        "          'Aareal Bank AG',\n",
        "          'Hamburg Commercial Bank AG',\n",
        "          'Bayerische Landesbank',\n",
        "          'Jyske Bank A/S',\n",
        "          'Sydbank A/S',\n",
        "          'Nykredit Realkredit A/S',\n",
        "          'Danske Bank A/S',\n",
        "          'Luminor Holding AS',\n",
        "          'Abanca Corporacion Bancaria S.A.',\n",
        "          'Banco Santander S.A.',\n",
        "          'Ibercaja Banco S.A.',\n",
        "          'Kutxabank S.A',\n",
        "          'Unicaja Banco S.A.',\n",
        "          'CaixaBank S.A.',\n",
        "          'Banco de Crédito Social Cooperativo',\n",
        "          'Banco Bilbao Vizcaya Argentaria S.A.',\n",
        "          'Banco de Sabadell S.A.',\n",
        "          'Bankinter S.A.',\n",
        "          'Kuntarahoitus Oyj',\n",
        "          'Nordea Bank Abp',\n",
        "          'OP Osuuskunta',\n",
        "          'SFIL',\n",
        "          'RCI Banque',\n",
        "          'Confédération Nationale du Crédit Mutuel',\n",
        "          'La Banque Postale',\n",
        "          'Bpifrance',\n",
        "          \"C.R.H. - Caisse de refinancement de l'habitat\",\n",
        "          'HSBC Continental Europe',\n",
        "          'Groupe BPCE',\n",
        "          'Groupe Crédit Agricole',\n",
        "          'Société générale',\n",
        "          'BNP Paribas',\n",
        "          'ALPHA SERVICES AND HOLDINGS S.A.',\n",
        "          'National Bank of Greece S.A.',\n",
        "          'Eurobank Ergasias Services and Holdings S.A.',\n",
        "          'Piraeus Financial Holdings',\n",
        "          'OTP-csoport',\n",
        "          'Magyar Bankholding',\n",
        "          'Barclays Bank Ireland plc',\n",
        "          'Citibank Holdings Ireland Limited',\n",
        "          'AIB Group plc',\n",
        "          'Bank of Ireland Group plc',\n",
        "          'Ulster Bank Ireland Designated Activity Company',\n",
        "          'Bank of America Europe Designated Activity Company',\n",
        "          'Íslandsbanki hf.',\n",
        "          'Landsbankinn hf.',\n",
        "          'Arion banki hf',\n",
        "          'Intesa Sanpaolo S.p.A.',\n",
        "          'Gruppo Bancario Finecobank  ',\n",
        "          'UniCredit S.p.A.',\n",
        "          'Gruppo Bancario Mediolanum  ',\n",
        "          'Credito Emiliano Holding S.p.A.',\n",
        "          'Banco BPM SpA',\n",
        "          'Banca Popolare di Sondrio, Società Cooperativa per Azioni',\n",
        "          'Banca Monte dei Paschi di Siena S.p.A.',\n",
        "          'CASSA CENTRALE BANCA',\n",
        "          'ICCREA BANCA S.P.A.',\n",
        "          'Mediobanca - Banca di Credito Finanziario S.p.A.',\n",
        "          'Akcine bendrove Šiauliu bankas',\n",
        "          'Precision Capital S.A.',\n",
        "          'RBC Investor Services Bank S.A.',\n",
        "          'J.P. Morgan Bank Luxembourg S.A.',\n",
        "          'Banque Internationale à Luxembourg',\n",
        "          'Banque et Caisse d´Epargne de l´Etat, Luxembourg',\n",
        "          'Akciju sabiedriba \"Citadele banka\"',\n",
        "          'MDB Group Limited',\n",
        "          'Bank of Valletta Plc',\n",
        "          'HSBC Bank Malta p.l.c.',\n",
        "          'BNG Bank N.V.',\n",
        "          'ING Groep N.V.',\n",
        "          'LP Group B.V.',\n",
        "          'de Volksbank N.V.',\n",
        "          'ABN AMRO Bank N.V.',\n",
        "          'Coöperatieve Rabobank U.A.',\n",
        "          'Nederlandse Waterschapsbank N.V.',\n",
        "          'Bank Polska Kasa Opieki S.A.',\n",
        "          'Powszechna Kasa Oszczednosci Bank Polski S.A.',\n",
        "          'LSF Nani Investments S.à r.l.',\n",
        "          'Banco Comercial Português SA',\n",
        "          'Caixa Geral de Depósitos SA',\n",
        "          'Banca Transilvania',\n",
        "          'Länförsäkringar Bank AB (publ)',\n",
        "          'Kommuninvest - group',\n",
        "          'Skandinaviska Enskilda Banken - group',\n",
        "          'SBAB Bank AB - group',\n",
        "          'Swedbank - group',\n",
        "          'Svenska Handelsbanken - group',\n",
        "          'Biser Topco S.à r.l.',\n",
        "          'Nova Ljubljanska Banka d.d. Ljubljana']"
      ]
    },
    {
      "cell_type": "markdown",
      "metadata": {},
      "source": [
        "###  User free-form Inputs"
      ]
    },
    {
      "cell_type": "code",
      "execution_count": 127,
      "metadata": {
        "id": "Va8q_kphfm2O"
      },
      "outputs": [],
      "source": [
        "# Examples of search strings\n",
        "s1 = 'Bawag bank' # other options: 'Bawag bank', 'Erste', 'Raiffaisen bank'\n"
      ]
    },
    {
      "cell_type": "markdown",
      "metadata": {},
      "source": [
        "### Searching without any text normalization or input normalization"
      ]
    },
    {
      "cell_type": "code",
      "execution_count": 128,
      "metadata": {
        "colab": {
          "base_uri": "https://localhost:8080/",
          "height": 206
        },
        "id": "GaIKgI5Zf6y9",
        "outputId": "331bd468-75eb-439e-9434-33595ae4e0de"
      },
      "outputs": [
        {
          "data": {
            "text/html": [
              "<div>\n",
              "<style scoped>\n",
              "    .dataframe tbody tr th:only-of-type {\n",
              "        vertical-align: middle;\n",
              "    }\n",
              "\n",
              "    .dataframe tbody tr th {\n",
              "        vertical-align: top;\n",
              "    }\n",
              "\n",
              "    .dataframe thead th {\n",
              "        text-align: right;\n",
              "    }\n",
              "</style>\n",
              "<table border=\"1\" class=\"dataframe\">\n",
              "  <thead>\n",
              "    <tr style=\"text-align: right;\">\n",
              "      <th></th>\n",
              "      <th>Bank 1</th>\n",
              "      <th>Bank 2</th>\n",
              "      <th>Score</th>\n",
              "    </tr>\n",
              "  </thead>\n",
              "  <tbody>\n",
              "    <tr>\n",
              "      <th>8</th>\n",
              "      <td>Bawag bank</td>\n",
              "      <td>Belfius Bank</td>\n",
              "      <td>0.454545</td>\n",
              "    </tr>\n",
              "    <tr>\n",
              "      <th>12</th>\n",
              "      <td>Bawag bank</td>\n",
              "      <td>RCB Bank Ltd</td>\n",
              "      <td>0.454545</td>\n",
              "    </tr>\n",
              "    <tr>\n",
              "      <th>33</th>\n",
              "      <td>Bawag bank</td>\n",
              "      <td>Bayerische Landesbank</td>\n",
              "      <td>0.451613</td>\n",
              "    </tr>\n",
              "    <tr>\n",
              "      <th>42</th>\n",
              "      <td>Bawag bank</td>\n",
              "      <td>Kutxabank S.A</td>\n",
              "      <td>0.434783</td>\n",
              "    </tr>\n",
              "    <tr>\n",
              "      <th>99</th>\n",
              "      <td>Bawag bank</td>\n",
              "      <td>BNG Bank N.V.</td>\n",
              "      <td>0.434783</td>\n",
              "    </tr>\n",
              "  </tbody>\n",
              "</table>\n",
              "</div>"
            ],
            "text/plain": [
              "        Bank 1                 Bank 2     Score\n",
              "8   Bawag bank           Belfius Bank  0.454545\n",
              "12  Bawag bank           RCB Bank Ltd  0.454545\n",
              "33  Bawag bank  Bayerische Landesbank  0.451613\n",
              "42  Bawag bank          Kutxabank S.A  0.434783\n",
              "99  Bawag bank          BNG Bank N.V.  0.434783"
            ]
          },
          "execution_count": 128,
          "metadata": {},
          "output_type": "execute_result"
        }
      ],
      "source": [
        "# A naive search method which you need to improve\n",
        "from difflib import SequenceMatcher\n",
        "res = []\n",
        "for token in banks:\n",
        "  res.append([s1, token, SequenceMatcher(None, s1, token).ratio()])\n",
        "\n",
        "df2 = pd.DataFrame(res, columns=['Bank 1', 'Bank 2', 'Score'])\n",
        "# The outcome is not great, for this search query 'BAWAG Group AG' should have highest similarity\n",
        "df2.sort_values(by=['Score'], ascending=[False]).head()"
      ]
    },
    {
      "cell_type": "markdown",
      "metadata": {},
      "source": [
        "### Similarity Score is very low"
      ]
    },
    {
      "cell_type": "code",
      "execution_count": 129,
      "metadata": {
        "colab": {
          "base_uri": "https://localhost:8080/",
          "height": 81
        },
        "id": "TXc8yBZOhIH0",
        "outputId": "fbe6efd4-2868-446d-f49d-fea1aca1020b"
      },
      "outputs": [
        {
          "data": {
            "text/html": [
              "<div>\n",
              "<style scoped>\n",
              "    .dataframe tbody tr th:only-of-type {\n",
              "        vertical-align: middle;\n",
              "    }\n",
              "\n",
              "    .dataframe tbody tr th {\n",
              "        vertical-align: top;\n",
              "    }\n",
              "\n",
              "    .dataframe thead th {\n",
              "        text-align: right;\n",
              "    }\n",
              "</style>\n",
              "<table border=\"1\" class=\"dataframe\">\n",
              "  <thead>\n",
              "    <tr style=\"text-align: right;\">\n",
              "      <th></th>\n",
              "      <th>Bank 1</th>\n",
              "      <th>Bank 2</th>\n",
              "      <th>Score</th>\n",
              "    </tr>\n",
              "  </thead>\n",
              "  <tbody>\n",
              "    <tr>\n",
              "      <th>1</th>\n",
              "      <td>Bawag bank</td>\n",
              "      <td>BAWAG Group AG</td>\n",
              "      <td>0.166667</td>\n",
              "    </tr>\n",
              "  </tbody>\n",
              "</table>\n",
              "</div>"
            ],
            "text/plain": [
              "       Bank 1          Bank 2     Score\n",
              "1  Bawag bank  BAWAG Group AG  0.166667"
            ]
          },
          "execution_count": 129,
          "metadata": {},
          "output_type": "execute_result"
        }
      ],
      "source": [
        " #The desired combination has a low score\n",
        "idx = df2['Bank 2'].isin(['BAWAG Group AG'])\n",
        "\n",
        "df2[idx].sort_values(by=['Score'], ascending=[False]).head()"
      ]
    },
    {
      "cell_type": "markdown",
      "metadata": {},
      "source": [
        "### Text Preprocessing and Normalization"
      ]
    },
    {
      "cell_type": "code",
      "execution_count": 130,
      "metadata": {
        "id": "yPyzkTAmwbTK"
      },
      "outputs": [],
      "source": [
        "import re\n",
        "\n",
        "def preprocess_text(text):\n",
        "    text = re.sub(r'[^\\w\\s]', '', text)  # Remove punctuation\n",
        "    text = text.lower()  # Convert to lowercase\n",
        "    return text\n",
        "\n",
        "def preprocess_text_list(text_list):\n",
        "    preprocessed_list = []\n",
        "    for text in text_list:\n",
        "        text = preprocess_text(text)\n",
        "        if 'bank' not in text:\n",
        "            text += ' bank'\n",
        "        preprocessed_list.append(text)\n",
        "    return preprocessed_list\n",
        "\n"
      ]
    },
    {
      "cell_type": "markdown",
      "metadata": {},
      "source": [
        "### Bank Names after Preprocessing"
      ]
    },
    {
      "cell_type": "code",
      "execution_count": 131,
      "metadata": {},
      "outputs": [
        {
          "data": {
            "text/plain": [
              "['sberbank europe ag',\n",
              " 'bawag group ag bank',\n",
              " 'raiffeisenbankengruppe oö verbund egen',\n",
              " 'raiffeisen bank international ag',\n",
              " 'volksbanken verbund',\n",
              " 'erste group bank ag',\n",
              " 'kbc groep bank',\n",
              " 'investeringsmaatschappij argenta bank',\n",
              " 'belfius bank',\n",
              " 'axa bank belgium',\n",
              " 'the bank of new york mellon sanv',\n",
              " 'first investment bank ad',\n",
              " 'rcb bank ltd',\n",
              " 'bank of cyprus holdings public limited company',\n",
              " 'hellenic bank public company limited',\n",
              " 'dekabank deutsche girozentrale',\n",
              " 'erwerbsgesellschaft der sfinanzgruppe mbh  co kg bank',\n",
              " 'ubs europe se bank',\n",
              " 'deutsche apotheker und ärztebank eg',\n",
              " 'volkswagen bank gesellschaft mit beschränkter haftung',\n",
              " 'münchener hypothekenbank eg',\n",
              " 'dz bank ag deutsche zentralgenossenschaftsbank frankfurt am main',\n",
              " 'haspa finanzholding bank',\n",
              " 'state street europe holdings germany sarl  co kg bank',\n",
              " 'jp morgan ag bank',\n",
              " 'deutsche bank aktiengesellschaft',\n",
              " 'commerzbank aktiengesellschaft',\n",
              " 'landesbank badenwürttemberg',\n",
              " 'landesbank hessenthüringen girozentrale',\n",
              " 'norddeutsche landesbank  girozentrale ',\n",
              " 'deutsche pfandbriefbank ag',\n",
              " 'aareal bank ag',\n",
              " 'hamburg commercial bank ag',\n",
              " 'bayerische landesbank',\n",
              " 'jyske bank as',\n",
              " 'sydbank as',\n",
              " 'nykredit realkredit as bank',\n",
              " 'danske bank as',\n",
              " 'luminor holding as bank',\n",
              " 'abanca corporacion bancaria sa bank',\n",
              " 'banco santander sa bank',\n",
              " 'ibercaja banco sa bank',\n",
              " 'kutxabank sa',\n",
              " 'unicaja banco sa bank',\n",
              " 'caixabank sa',\n",
              " 'banco de crédito social cooperativo bank',\n",
              " 'banco bilbao vizcaya argentaria sa bank',\n",
              " 'banco de sabadell sa bank',\n",
              " 'bankinter sa',\n",
              " 'kuntarahoitus oyj bank',\n",
              " 'nordea bank abp',\n",
              " 'op osuuskunta bank',\n",
              " 'sfil bank',\n",
              " 'rci banque bank',\n",
              " 'confédération nationale du crédit mutuel bank',\n",
              " 'la banque postale bank',\n",
              " 'bpifrance bank',\n",
              " 'crh  caisse de refinancement de lhabitat bank',\n",
              " 'hsbc continental europe bank',\n",
              " 'groupe bpce bank',\n",
              " 'groupe crédit agricole bank',\n",
              " 'société générale bank',\n",
              " 'bnp paribas bank',\n",
              " 'alpha services and holdings sa bank',\n",
              " 'national bank of greece sa',\n",
              " 'eurobank ergasias services and holdings sa',\n",
              " 'piraeus financial holdings bank',\n",
              " 'otpcsoport bank',\n",
              " 'magyar bankholding',\n",
              " 'barclays bank ireland plc',\n",
              " 'citibank holdings ireland limited',\n",
              " 'aib group plc bank',\n",
              " 'bank of ireland group plc',\n",
              " 'ulster bank ireland designated activity company',\n",
              " 'bank of america europe designated activity company',\n",
              " 'íslandsbanki hf',\n",
              " 'landsbankinn hf',\n",
              " 'arion banki hf',\n",
              " 'intesa sanpaolo spa bank',\n",
              " 'gruppo bancario finecobank  ',\n",
              " 'unicredit spa bank',\n",
              " 'gruppo bancario mediolanum   bank',\n",
              " 'credito emiliano holding spa bank',\n",
              " 'banco bpm spa bank',\n",
              " 'banca popolare di sondrio società cooperativa per azioni bank',\n",
              " 'banca monte dei paschi di siena spa bank',\n",
              " 'cassa centrale banca bank',\n",
              " 'iccrea banca spa bank',\n",
              " 'mediobanca  banca di credito finanziario spa bank',\n",
              " 'akcine bendrove šiauliu bankas',\n",
              " 'precision capital sa bank',\n",
              " 'rbc investor services bank sa',\n",
              " 'jp morgan bank luxembourg sa',\n",
              " 'banque internationale à luxembourg bank',\n",
              " 'banque et caisse depargne de letat luxembourg bank',\n",
              " 'akciju sabiedriba citadele banka',\n",
              " 'mdb group limited bank',\n",
              " 'bank of valletta plc',\n",
              " 'hsbc bank malta plc',\n",
              " 'bng bank nv',\n",
              " 'ing groep nv bank',\n",
              " 'lp group bv bank',\n",
              " 'de volksbank nv',\n",
              " 'abn amro bank nv',\n",
              " 'coöperatieve rabobank ua',\n",
              " 'nederlandse waterschapsbank nv',\n",
              " 'bank polska kasa opieki sa',\n",
              " 'powszechna kasa oszczednosci bank polski sa',\n",
              " 'lsf nani investments sà rl bank',\n",
              " 'banco comercial português sa bank',\n",
              " 'caixa geral de depósitos sa bank',\n",
              " 'banca transilvania bank',\n",
              " 'länförsäkringar bank ab publ',\n",
              " 'kommuninvest  group bank',\n",
              " 'skandinaviska enskilda banken  group',\n",
              " 'sbab bank ab  group',\n",
              " 'swedbank  group',\n",
              " 'svenska handelsbanken  group',\n",
              " 'biser topco sà rl bank',\n",
              " 'nova ljubljanska banka dd ljubljana']"
            ]
          },
          "execution_count": 131,
          "metadata": {},
          "output_type": "execute_result"
        }
      ],
      "source": [
        "preprocessed_banks = preprocess_text_list(banks)\n",
        "preprocessed_banks"
      ]
    },
    {
      "cell_type": "markdown",
      "metadata": {},
      "source": [
        "Word \"bank\" is appended in those names where it is not present to provide uniform weight to every name"
      ]
    },
    {
      "cell_type": "markdown",
      "metadata": {},
      "source": [
        "### Similarity after Text Normalization"
      ]
    },
    {
      "cell_type": "code",
      "execution_count": 132,
      "metadata": {
        "colab": {
          "base_uri": "https://localhost:8080/",
          "height": 245
        },
        "id": "jRXKcs0JyD4Y",
        "outputId": "2676163d-7af9-4989-e8c3-9073510fc6e0"
      },
      "outputs": [
        {
          "data": {
            "text/html": [
              "<div>\n",
              "<style scoped>\n",
              "    .dataframe tbody tr th:only-of-type {\n",
              "        vertical-align: middle;\n",
              "    }\n",
              "\n",
              "    .dataframe tbody tr th {\n",
              "        vertical-align: top;\n",
              "    }\n",
              "\n",
              "    .dataframe thead th {\n",
              "        text-align: right;\n",
              "    }\n",
              "</style>\n",
              "<table border=\"1\" class=\"dataframe\">\n",
              "  <thead>\n",
              "    <tr style=\"text-align: right;\">\n",
              "      <th></th>\n",
              "      <th>Bank 1</th>\n",
              "      <th>Bank 2</th>\n",
              "      <th>Score</th>\n",
              "    </tr>\n",
              "  </thead>\n",
              "  <tbody>\n",
              "    <tr>\n",
              "      <th>1</th>\n",
              "      <td>Bawag bank</td>\n",
              "      <td>BAWAG Group AG</td>\n",
              "      <td>0.689655</td>\n",
              "    </tr>\n",
              "    <tr>\n",
              "      <th>99</th>\n",
              "      <td>Bawag bank</td>\n",
              "      <td>BNG Bank N.V.</td>\n",
              "      <td>0.666667</td>\n",
              "    </tr>\n",
              "    <tr>\n",
              "      <th>24</th>\n",
              "      <td>Bawag bank</td>\n",
              "      <td>J.P. Morgan AG</td>\n",
              "      <td>0.592593</td>\n",
              "    </tr>\n",
              "    <tr>\n",
              "      <th>56</th>\n",
              "      <td>Bawag bank</td>\n",
              "      <td>Bpifrance</td>\n",
              "      <td>0.583333</td>\n",
              "    </tr>\n",
              "    <tr>\n",
              "      <th>6</th>\n",
              "      <td>Bawag bank</td>\n",
              "      <td>KBC Groep</td>\n",
              "      <td>0.583333</td>\n",
              "    </tr>\n",
              "  </tbody>\n",
              "</table>\n",
              "</div>"
            ],
            "text/plain": [
              "        Bank 1          Bank 2     Score\n",
              "1   Bawag bank  BAWAG Group AG  0.689655\n",
              "99  Bawag bank   BNG Bank N.V.  0.666667\n",
              "24  Bawag bank  J.P. Morgan AG  0.592593\n",
              "56  Bawag bank       Bpifrance  0.583333\n",
              "6   Bawag bank       KBC Groep  0.583333"
            ]
          },
          "execution_count": 132,
          "metadata": {},
          "output_type": "execute_result"
        }
      ],
      "source": [
        "s1 = 'Bawag bank'\n",
        "ip1 = preprocess_text(s1)\n",
        "res = []\n",
        "for idx, token in enumerate(preprocessed_banks):\n",
        "  og_name = banks[idx]\n",
        "  res.append([s1, og_name, SequenceMatcher(None, ip1, token).ratio()])\n",
        "\n",
        "df2 = pd.DataFrame(res, columns=['Bank 1', 'Bank 2', 'Score'])\n",
        "df2.sort_values(by=['Score'], ascending=[False]).head()"
      ]
    },
    {
      "cell_type": "code",
      "execution_count": 133,
      "metadata": {},
      "outputs": [
        {
          "data": {
            "text/html": [
              "<div>\n",
              "<style scoped>\n",
              "    .dataframe tbody tr th:only-of-type {\n",
              "        vertical-align: middle;\n",
              "    }\n",
              "\n",
              "    .dataframe tbody tr th {\n",
              "        vertical-align: top;\n",
              "    }\n",
              "\n",
              "    .dataframe thead th {\n",
              "        text-align: right;\n",
              "    }\n",
              "</style>\n",
              "<table border=\"1\" class=\"dataframe\">\n",
              "  <thead>\n",
              "    <tr style=\"text-align: right;\">\n",
              "      <th></th>\n",
              "      <th>Bank 1</th>\n",
              "      <th>Bank 2</th>\n",
              "      <th>Score</th>\n",
              "    </tr>\n",
              "  </thead>\n",
              "  <tbody>\n",
              "    <tr>\n",
              "      <th>5</th>\n",
              "      <td>Erste</td>\n",
              "      <td>Erste Group Bank AG</td>\n",
              "      <td>0.416667</td>\n",
              "    </tr>\n",
              "    <tr>\n",
              "      <th>48</th>\n",
              "      <td>Erste</td>\n",
              "      <td>Bankinter S.A.</td>\n",
              "      <td>0.352941</td>\n",
              "    </tr>\n",
              "    <tr>\n",
              "      <th>17</th>\n",
              "      <td>Erste</td>\n",
              "      <td>UBS Europe SE</td>\n",
              "      <td>0.347826</td>\n",
              "    </tr>\n",
              "    <tr>\n",
              "      <th>33</th>\n",
              "      <td>Erste</td>\n",
              "      <td>Bayerische Landesbank</td>\n",
              "      <td>0.307692</td>\n",
              "    </tr>\n",
              "    <tr>\n",
              "      <th>55</th>\n",
              "      <td>Erste</td>\n",
              "      <td>La Banque Postale</td>\n",
              "      <td>0.296296</td>\n",
              "    </tr>\n",
              "  </tbody>\n",
              "</table>\n",
              "</div>"
            ],
            "text/plain": [
              "   Bank 1                 Bank 2     Score\n",
              "5   Erste    Erste Group Bank AG  0.416667\n",
              "48  Erste         Bankinter S.A.  0.352941\n",
              "17  Erste          UBS Europe SE  0.347826\n",
              "33  Erste  Bayerische Landesbank  0.307692\n",
              "55  Erste      La Banque Postale  0.296296"
            ]
          },
          "execution_count": 133,
          "metadata": {},
          "output_type": "execute_result"
        }
      ],
      "source": [
        "s2 = 'Erste'\n",
        "ip2 = preprocess_text(s2)\n",
        "res = []\n",
        "for idx, token in enumerate(preprocessed_banks):\n",
        "  og_name = banks[idx]\n",
        "  res.append([s2, og_name, SequenceMatcher(None, ip2, token).ratio()])\n",
        "\n",
        "df2 = pd.DataFrame(res, columns=['Bank 1', 'Bank 2', 'Score'])\n",
        "df2.sort_values(by=['Score'], ascending=[False]).head()"
      ]
    },
    {
      "cell_type": "code",
      "execution_count": 134,
      "metadata": {},
      "outputs": [
        {
          "data": {
            "text/html": [
              "<div>\n",
              "<style scoped>\n",
              "    .dataframe tbody tr th:only-of-type {\n",
              "        vertical-align: middle;\n",
              "    }\n",
              "\n",
              "    .dataframe tbody tr th {\n",
              "        vertical-align: top;\n",
              "    }\n",
              "\n",
              "    .dataframe thead th {\n",
              "        text-align: right;\n",
              "    }\n",
              "</style>\n",
              "<table border=\"1\" class=\"dataframe\">\n",
              "  <thead>\n",
              "    <tr style=\"text-align: right;\">\n",
              "      <th></th>\n",
              "      <th>Bank 1</th>\n",
              "      <th>Bank 2</th>\n",
              "      <th>Score</th>\n",
              "    </tr>\n",
              "  </thead>\n",
              "  <tbody>\n",
              "    <tr>\n",
              "      <th>3</th>\n",
              "      <td>Raiffaisen bank</td>\n",
              "      <td>Raiffeisen Bank International AG</td>\n",
              "      <td>0.595745</td>\n",
              "    </tr>\n",
              "    <tr>\n",
              "      <th>77</th>\n",
              "      <td>Raiffaisen bank</td>\n",
              "      <td>Arion banki hf</td>\n",
              "      <td>0.551724</td>\n",
              "    </tr>\n",
              "    <tr>\n",
              "      <th>37</th>\n",
              "      <td>Raiffaisen bank</td>\n",
              "      <td>Danske Bank A/S</td>\n",
              "      <td>0.551724</td>\n",
              "    </tr>\n",
              "    <tr>\n",
              "      <th>56</th>\n",
              "      <td>Raiffaisen bank</td>\n",
              "      <td>Bpifrance</td>\n",
              "      <td>0.551724</td>\n",
              "    </tr>\n",
              "    <tr>\n",
              "      <th>53</th>\n",
              "      <td>Raiffaisen bank</td>\n",
              "      <td>RCI Banque</td>\n",
              "      <td>0.533333</td>\n",
              "    </tr>\n",
              "  </tbody>\n",
              "</table>\n",
              "</div>"
            ],
            "text/plain": [
              "             Bank 1                            Bank 2     Score\n",
              "3   Raiffaisen bank  Raiffeisen Bank International AG  0.595745\n",
              "77  Raiffaisen bank                    Arion banki hf  0.551724\n",
              "37  Raiffaisen bank                   Danske Bank A/S  0.551724\n",
              "56  Raiffaisen bank                         Bpifrance  0.551724\n",
              "53  Raiffaisen bank                        RCI Banque  0.533333"
            ]
          },
          "execution_count": 134,
          "metadata": {},
          "output_type": "execute_result"
        }
      ],
      "source": [
        "s3 = 'Raiffaisen bank'\n",
        "ip3 = preprocess_text(s3)\n",
        "res = []\n",
        "for idx, token in enumerate(preprocessed_banks):\n",
        "  og_name = banks[idx]\n",
        "  res.append([s3, og_name, SequenceMatcher(None, ip3, token).ratio()])\n",
        "\n",
        "df2 = pd.DataFrame(res, columns=['Bank 1', 'Bank 2', 'Score'])\n",
        "df2.sort_values(by=['Score'], ascending=[False]).head()"
      ]
    },
    {
      "cell_type": "markdown",
      "metadata": {},
      "source": [
        "#### Similarity is Significantly Improved after Text Normalization and Preprocessing"
      ]
    }
  ],
  "metadata": {
    "colab": {
      "provenance": []
    },
    "kernelspec": {
      "display_name": "Python 3",
      "name": "python3"
    },
    "language_info": {
      "codemirror_mode": {
        "name": "ipython",
        "version": 3
      },
      "file_extension": ".py",
      "mimetype": "text/x-python",
      "name": "python",
      "nbconvert_exporter": "python",
      "pygments_lexer": "ipython3",
      "version": "3.10.6"
    }
  },
  "nbformat": 4,
  "nbformat_minor": 0
}
